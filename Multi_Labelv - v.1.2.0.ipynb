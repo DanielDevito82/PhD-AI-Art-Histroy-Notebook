{
  "nbformat": 4,
  "nbformat_minor": 0,
  "metadata": {
    "accelerator": "GPU",
    "colab": {
      "name": "Multi-Label.ipynb",
      "provenance": [],
      "collapsed_sections": [
        "pBlcPyFDVGU0",
        "_fXX0UB1VrHf",
        "ce3xSxowVy69"
      ],
      "include_colab_link": true
    },
    "kernelspec": {
      "display_name": "Python 3",
      "language": "python",
      "name": "python3"
    },
    "language_info": {
      "codemirror_mode": {
        "name": "ipython",
        "version": 3
      },
      "file_extension": ".py",
      "mimetype": "text/x-python",
      "name": "python",
      "nbconvert_exporter": "python",
      "pygments_lexer": "ipython3",
      "version": "3.6.12"
    }
  },
  "cells": [
    {
      "cell_type": "markdown",
      "metadata": {
        "id": "view-in-github",
        "colab_type": "text"
      },
      "source": [
        "<a href=\"https://colab.research.google.com/github/DanielDevito82/PhD-AI-Art-Histroy-Notebook/blob/main/Multi_Labelv%20-%20v.1.2.0.ipynb\" target=\"_parent\"><img src=\"https://colab.research.google.com/assets/colab-badge.svg\" alt=\"Open In Colab\"/></a>"
      ]
    },
    {
      "cell_type": "markdown",
      "metadata": {
        "id": "jJdcQQb1WcT_"
      },
      "source": [
        "#**Preparations** "
      ]
    },
    {
      "cell_type": "markdown",
      "metadata": {
        "id": "lkimS2ehXrhX"
      },
      "source": [
        "## Definitation"
      ]
    },
    {
      "cell_type": "markdown",
      "metadata": {
        "id": "UgdCCpuuq8Ga"
      },
      "source": [
        "Set the seeds for a reproducible results"
      ]
    },
    {
      "cell_type": "code",
      "metadata": {
        "id": "IiP96KU-qLYw"
      },
      "source": [
        "# Seed value (can actually be different for each attribution step)\r\n",
        "seed_value= 0\r\n",
        "\r\n",
        "# 1. Set `PYTHONHASHSEED` environment variable at a fixed value\r\n",
        "import os\r\n",
        "os.environ['PYTHONHASHSEED']=str(seed_value)\r\n",
        "\r\n",
        "# 2. Set `python` built-in pseudo-random generator at a fixed value\r\n",
        "import random\r\n",
        "random.seed(seed_value)\r\n",
        "\r\n",
        "# 3. Set `numpy` pseudo-random generator at a fixed value\r\n",
        "import numpy as np\r\n",
        "np.random.seed(seed_value)\r\n",
        "\r\n",
        "# 4. Set `tensorflow` pseudo-random generator at a fixed value\r\n",
        "import tensorflow as tf\r\n",
        "tf.random.set_seed(seed_value) # tensorflow 2.x"
      ],
      "execution_count": 27,
      "outputs": []
    },
    {
      "cell_type": "markdown",
      "metadata": {
        "id": "I0XG4lrlWWq3"
      },
      "source": [
        "Imports"
      ]
    },
    {
      "cell_type": "code",
      "metadata": {
        "id": "tZQnh5bvdIhu"
      },
      "source": [
        "#Imports\n",
        "import sys\n",
        "import cv2\n",
        "import os\n",
        "import random as rn\n",
        "import numpy as np\n",
        "import matplotlib.pyplot as plt\n",
        "import pandas as pd\n",
        "import inspect\n",
        "import tensorflow as tf\n",
        "from PIL import Image\n",
        "import itertools\n",
        "from tensorboard import notebook\n",
        "\n",
        "if 'google.colab' in str(get_ipython()):\n",
        "  # cv2.imshow is deactivated in GoogleLab\n",
        "  from google.colab.patches import cv2_imshow\n",
        "\n",
        "# To identify the platform. For the platform individual operation: MAC or Windows\n",
        "import platform\n",
        "\n",
        "# for the storing of logs, h5, files...\n",
        "from datetime import datetime\n",
        "\n",
        "# to evaluate the predicted classification\n",
        "from sklearn.metrics import (classification_report,\n",
        "                             mean_absolute_error,\n",
        "                             mean_squared_error,\n",
        "                             mean_squared_log_error,\n",
        "                             multilabel_confusion_matrix)\n",
        "\n",
        "from sklearn.metrics import (f1_score,\n",
        "                             precision_score,\n",
        "                             recall_score)\n",
        "\n",
        "#Note Tensorflow includes the Framework Keras at Version 2.0\n",
        "from tensorflow.keras.preprocessing.image import ImageDataGenerator\n",
        "from keras.utils import Sequence, plot_model\n",
        "\n",
        "# to force Tensporflow to use a single thread\n",
        "from tensorflow.keras import backend # do I need this?\n",
        "\n",
        "#EarlyStopping: Early stopping to track the val_loss and stop training once it begins increasing too much!\n",
        "from tensorflow.keras.callbacks import EarlyStopping, TensorBoard\n",
        "from tensorflow.keras.optimizers import SGD, RMSprop, Adam\n",
        "from tensorflow.keras.models import Sequential, Model\n",
        "from tensorflow.keras.layers import Activation, Dropout, Flatten, Dense, Conv2D, MaxPooling2D, AveragePooling2D ,BatchNormalization, GlobalAveragePooling2D"
      ],
      "execution_count": 37,
      "outputs": []
    },
    {
      "cell_type": "code",
      "metadata": {
        "id": "fLSZL1Hi0FXr"
      },
      "source": [
        "def plot_confusion_matrix(cm, classes, title, ax):\r\n",
        "\r\n",
        "    ax.imshow(cm, interpolation='nearest', cmap=plt.cm.Blues)\r\n",
        "    for i, j in itertools.product(range(cm.shape[0]), range(cm.shape[1])):\r\n",
        "        ax.text(j, i, cm[i, j],\r\n",
        "                 horizontalalignment=\"center\",\r\n",
        "                 color=\"white\" if cm[i, j] > cm.max() / 2. else \"black\")\r\n",
        "\r\n",
        "    tick_marks = np.arange(len(classes))\r\n",
        "    ax.set_xticks(tick_marks), ax.xaxis.set_ticklabels(classes)\r\n",
        "    ax.set_yticks(tick_marks), ax.yaxis.set_ticklabels(classes)\r\n",
        "    ax.set_xlabel('Predicted')\r\n",
        "    ax.set_ylabel('Truth')\r\n",
        "    ax.set_title(title)\r\n",
        "    ax.grid(False)\r\n",
        "\r\n",
        "def plot_multiclass_confusion_matrix(y_true, y_pred, label_to_class, save_plot=False):\r\n",
        "    fig, axes = plt.subplots(int(np.ceil(len(label_to_class) / 2)), 2, figsize=(5, 15))\r\n",
        "    axes = axes.flatten()\r\n",
        "    for i, conf_matrix in enumerate(multilabel_confusion_matrix(y_true, y_pred)):\r\n",
        "        tn, fp, fn, tp = conf_matrix.ravel()\r\n",
        "        f1 = 2 * tp / (2 * tp + fp + fn + sys.float_info.epsilon)\r\n",
        "        recall = tp / (tp + fn + sys.float_info.epsilon)\r\n",
        "        precision = tp / (tp + fp + sys.float_info.epsilon)\r\n",
        "        plot_confusion_matrix(\r\n",
        "            np.array([[tp, fn], [fp, tn]]),\r\n",
        "            classes=['+', '-'],\r\n",
        "            title=f'Label: {label_to_class[i]}\\nf1={f1:.5f}\\nrecall={recall:.5f}\\nprecision={precision:.5f}',\r\n",
        "            ax=axes[i]\r\n",
        "        )\r\n",
        "        plt.tight_layout()\r\n",
        "    if save_plot:\r\n",
        "        plt.savefig('confusion_matrices.png', dpi=50)"
      ],
      "execution_count": 38,
      "outputs": []
    },
    {
      "cell_type": "code",
      "metadata": {
        "id": "F5O4Ox2vHpYE"
      },
      "source": [
        "def displayImage(imgs):\r\n",
        "  data = imgs[0].copy()\r\n",
        "  if 'google.colab' in str(get_ipython()):\r\n",
        "    cv2_imshow(data*255)\r\n",
        "  else:\r\n",
        "    cv2.imshow(data*255)\r\n",
        "  #cv2_imshow(np.hstack(data[:3]))\r\n",
        "  #plt.title(('Image')\r\n",
        "  #plt.axis('off');\r\n",
        "#  data.resize(g_Image_Shape[:2])\r\n",
        "#  data = 255 * data\r\n",
        "#  img = Image.fromarray(data)\r\n",
        "#  print(type(img))\r\n",
        "#  display(img.convert('RGB'))"
      ],
      "execution_count": 39,
      "outputs": []
    },
    {
      "cell_type": "markdown",
      "metadata": {
        "id": "cZWyGC5yUt40"
      },
      "source": [
        "Load the global variables\r\n",
        "\r\n",
        "\r\n",
        "\r\n",
        "\r\n",
        "\r\n",
        "\r\n"
      ]
    },
    {
      "cell_type": "code",
      "metadata": {
        "id": "w3b5uP9SdIh8"
      },
      "source": [
        "#GLOBAL VARIABLES\n",
        "# an CNN needs an uniform width,height,channels\n",
        "g_Image_Shape = (128,128,1) # my shape\n",
        "g_Image_Shape_ResNet = (224,224,3) # ResNet\n",
        "g_Image_Shape_InceptionV3 = (299,299,3) # InceptionV3\n",
        "g_batch_size = 1\n",
        "\n",
        "if 'google.colab' in str(get_ipython()):\n",
        "  g_File_csv = '/content/drive/MyDrive/Colab Notebooks/features.csv'\n",
        "  g_Folder_Trimed = '/content/drive/MyDrive/Colab Notebooks/_1'\n",
        "else:\n",
        "  g_File_csv = 'Image/features.csv'\n",
        "  g_Folder_Trimed = 'Images/_trimed/_1'\n",
        "\n",
        "split_validation = 0.2"
      ],
      "execution_count": 31,
      "outputs": []
    },
    {
      "cell_type": "markdown",
      "metadata": {
        "id": "yiuYfTIAU-wJ"
      },
      "source": [
        "\r\n",
        "Mount the drive"
      ]
    },
    {
      "cell_type": "code",
      "metadata": {
        "colab": {
          "base_uri": "https://localhost:8080/"
        },
        "id": "5KVFxEOKdx4g",
        "outputId": "b083f9b9-e330-41a3-8faa-bcfc0ee7210d"
      },
      "source": [
        "if 'google.colab' in str(get_ipython()):\n",
        "  from google.colab import drive\n",
        "  drive.mount('/content/drive')"
      ],
      "execution_count": 6,
      "outputs": [
        {
          "output_type": "stream",
          "text": [
            "Mounted at /content/drive\n"
          ],
          "name": "stdout"
        }
      ]
    },
    {
      "cell_type": "markdown",
      "metadata": {
        "id": "-7LuHRDxWSqY"
      },
      "source": [
        "Config the Hardware"
      ]
    },
    {
      "cell_type": "code",
      "metadata": {
        "colab": {
          "base_uri": "https://localhost:8080/"
        },
        "id": "hQKnRzuXdIh-",
        "outputId": "d9878912-4003-4fba-c7db-628fc4a0f311"
      },
      "source": [
        "print(tf.__version__)\r\n",
        "print(platform.system())\r\n",
        "\r\n",
        "physical_devices = tf.config.list_physical_devices('GPU')\r\n",
        "print(\"Num GPUs Available: \", len(physical_devices))\r\n",
        "#try:\r\n",
        "  #tf.config.experimental.set_memory_growth(physical_devices[0], True) # for a local enviroment, if your GPU memory should groth and not completely should be blocked. Because you need your GPu for other applications\r\n",
        "#except:\r\n",
        "  # Invalid device or cannot modify virtual devices once initialized.\r\n",
        "#  pass"
      ],
      "execution_count": 32,
      "outputs": [
        {
          "output_type": "stream",
          "text": [
            "2.4.0\n",
            "Linux\n",
            "Num GPUs Available:  0\n"
          ],
          "name": "stdout"
        }
      ]
    },
    {
      "cell_type": "markdown",
      "metadata": {
        "id": "wqRSwCmDX2HX"
      },
      "source": [
        "## Data Preprocessing"
      ]
    },
    {
      "cell_type": "markdown",
      "metadata": {
        "id": "pBlcPyFDVGU0"
      },
      "source": [
        "### Load and duplicate the data"
      ]
    },
    {
      "cell_type": "code",
      "metadata": {
        "id": "qabmRlfidIiB"
      },
      "source": [
        "# Read the data (Image, Labels ...)\n",
        "init_df = pd.read_csv(g_File_csv,sep=';')"
      ],
      "execution_count": 40,
      "outputs": []
    },
    {
      "cell_type": "code",
      "metadata": {
        "colab": {
          "base_uri": "https://localhost:8080/"
        },
        "id": "Sb7ZfD_lfjgt",
        "outputId": "86b2fcd9-b828-47b7-8ab3-15209255a784"
      },
      "source": [
        "df = init_df.copy()\r\n",
        "df_copy = []\r\n",
        "for x in range(2):\r\n",
        "\r\n",
        "  df = df.append(df_copy)\r\n",
        "  df_copy = df.copy()\r\n",
        "\r\n",
        "len(df)"
      ],
      "execution_count": 41,
      "outputs": [
        {
          "output_type": "execute_result",
          "data": {
            "text/plain": [
              "420"
            ]
          },
          "metadata": {
            "tags": []
          },
          "execution_count": 41
        }
      ]
    },
    {
      "cell_type": "code",
      "metadata": {
        "id": "2s_IpVzCdIiD"
      },
      "source": [
        "# Extract the columns of the dataframe df for further preprocessing with the images\n",
        "columns = []\n",
        "for x  in df.columns:\n",
        "    if x != 'image':\n",
        "        columns.append(x)"
      ],
      "execution_count": 42,
      "outputs": []
    },
    {
      "cell_type": "code",
      "metadata": {
        "id": "ui_Q54z2dIiD"
      },
      "source": [
        "# read how many layer / classes need to be defined in the last Dense Layer\r\n",
        "lastLayer = len(columns)"
      ],
      "execution_count": 43,
      "outputs": []
    },
    {
      "cell_type": "code",
      "metadata": {
        "id": "-v2RF8judIiF"
      },
      "source": [
        "#df.query('man==0')"
      ],
      "execution_count": 44,
      "outputs": []
    },
    {
      "cell_type": "code",
      "metadata": {
        "id": "__lmfEKq8Qcm"
      },
      "source": [
        "#df.loc[df['man'] == 0]"
      ],
      "execution_count": 45,
      "outputs": []
    },
    {
      "cell_type": "markdown",
      "metadata": {
        "id": "iMzj3WkEVOfJ"
      },
      "source": [
        "### Generating the data"
      ]
    },
    {
      "cell_type": "markdown",
      "metadata": {
        "id": "f3YjUsFyV4aH"
      },
      "source": [
        "individual"
      ]
    },
    {
      "cell_type": "code",
      "metadata": {
        "id": "utqoJmxPdIiJ"
      },
      "source": [
        "#This functions helps if you are dealing with small datasets\n",
        "image_gen = ImageDataGenerator(rotation_range=0.3, # rotate the image 30 degrees\n",
        "                                   width_shift_range=0.10, # Shift the pic width by a max of 10%\n",
        "                                   height_shift_range=0.10, # Shift the pic height by a max of 10%\n",
        "                                   rescale=1/255, # Rescale the image by normalzing it.\n",
        "                                   shear_range=0.2, # Shear means cutting away part of the image (max 20%)\n",
        "                                   zoom_range=0.2, # Zoom in by 20% max\n",
        "                                   vertical_flip=True,\n",
        "                                   horizontal_flip=True, # Allo horizontal flipping\n",
        "                                   validation_split=split_validation, # Split the data into train and test/validation\n",
        "                                   fill_mode='nearest' # Fill in missing pixels with the nearest filled value\n",
        "                                  )"
      ],
      "execution_count": 46,
      "outputs": []
    },
    {
      "cell_type": "code",
      "metadata": {
        "colab": {
          "base_uri": "https://localhost:8080/"
        },
        "id": "mHbxnFZZdIiM",
        "outputId": "063af043-6a7e-4b04-b17a-79eeed74f3c2"
      },
      "source": [
        "train_generator = image_gen.flow_from_dataframe(\n",
        "                                               dataframe=df,\n",
        "                                               directory=g_Folder_Trimed,\n",
        "                                                color_mode='rgb',#'grayscale',                                          \n",
        "                                                x_col=\"image\",\n",
        "                                               y_col=columns,\n",
        "                                               batch_size=g_batch_size,\n",
        "                                               seed=42,\n",
        "                                               shuffle=False, # to compare the preprocessing function & Validation or Test data shoundn't be shuffled\n",
        "                                               class_mode=\"raw\",\n",
        "                                               subset='training',\n",
        "                                               target_size=g_Image_Shape[:2]\n",
        "                                                )"
      ],
      "execution_count": 47,
      "outputs": [
        {
          "output_type": "stream",
          "text": [
            "Found 336 validated image filenames.\n"
          ],
          "name": "stdout"
        }
      ]
    },
    {
      "cell_type": "code",
      "metadata": {
        "colab": {
          "base_uri": "https://localhost:8080/"
        },
        "id": "ozyb-kTwdIiM",
        "outputId": "5a3be899-1d2f-4199-8faa-4e77c08b63e1"
      },
      "source": [
        "valid_generator=image_gen.flow_from_dataframe(\n",
        "                                               dataframe=df,\n",
        "                                               directory=g_Folder_Trimed,\n",
        "                                                color_mode='rgb',#'grayscale', \n",
        "                                               x_col=\"image\",\n",
        "                                               y_col=columns,\n",
        "                                               batch_size=g_batch_size,\n",
        "                                               seed=42,\n",
        "                                               shuffle=False, # to compare the preprocessing function & Validation or Test data shoundn't be shuffled\n",
        "                                               class_mode=\"raw\",\n",
        "                                               subset='validation',\n",
        "                                               target_size=g_Image_Shape[:2]\n",
        "                                               )"
      ],
      "execution_count": 48,
      "outputs": [
        {
          "output_type": "stream",
          "text": [
            "Found 84 validated image filenames.\n"
          ],
          "name": "stdout"
        }
      ]
    },
    {
      "cell_type": "markdown",
      "metadata": {
        "id": "fXABv29UVgQM"
      },
      "source": [
        "For the RESNET v2 model"
      ]
    },
    {
      "cell_type": "code",
      "metadata": {
        "colab": {
          "base_uri": "https://localhost:8080/"
        },
        "id": "BcZxwRDPO0kP",
        "outputId": "becf56d5-e402-496c-85cf-822203ab6b7c"
      },
      "source": [
        "train_batches_resnet_v2 = ImageDataGenerator(preprocessing_function=tf.keras.applications.resnet_v2.preprocess_input,\r\n",
        "                                             vertical_flip=True,\r\n",
        "                                             horizontal_flip=True,\r\n",
        "                                             validation_split=split_validation) \\\r\n",
        "                .flow_from_dataframe(dataframe=df,\r\n",
        "                      directory=g_Folder_Trimed,\r\n",
        "                      color_mode='rgb',#'grayscale', \r\n",
        "                      x_col=\"image\",\r\n",
        "                      y_col=columns,\r\n",
        "                      batch_size=g_batch_size,\r\n",
        "                      seed=42,\r\n",
        "                      shuffle=False,  # to compare the preprocessing function & Validation or Test data shoundn't be shuffled\r\n",
        "                      class_mode=\"raw\",\r\n",
        "                      subset='training',\r\n",
        "                      target_size=g_Image_Shape_ResNet[:2]\r\n",
        "                      )   "
      ],
      "execution_count": 69,
      "outputs": [
        {
          "output_type": "stream",
          "text": [
            "Found 336 validated image filenames.\n"
          ],
          "name": "stdout"
        }
      ]
    },
    {
      "cell_type": "code",
      "metadata": {
        "colab": {
          "base_uri": "https://localhost:8080/"
        },
        "id": "ndO6xUDpKINv",
        "outputId": "8c54a2e3-d8f0-4c09-b1ce-005d62df1d19"
      },
      "source": [
        "valid_batches_resnet_v2 = ImageDataGenerator(preprocessing_function=tf.keras.applications.resnet_v2.preprocess_input,                  \r\n",
        "                                             validation_split=split_validation) \\\r\n",
        "                .flow_from_dataframe(dataframe=df,\r\n",
        "                      directory=g_Folder_Trimed,\r\n",
        "                      color_mode='rgb',#'grayscale', \r\n",
        "                      x_col=\"image\",\r\n",
        "                      y_col=columns,\r\n",
        "                      batch_size=g_batch_size,\r\n",
        "                      seed=42,\r\n",
        "                      shuffle=False, # to compare the preprocessing function & Validation or Test data shoundn't be shuffled\r\n",
        "                      class_mode=\"raw\",\r\n",
        "                      subset='validation',\r\n",
        "                      target_size=g_Image_Shape_ResNet[:2]\r\n",
        "                      )   "
      ],
      "execution_count": 70,
      "outputs": [
        {
          "output_type": "stream",
          "text": [
            "Found 84 validated image filenames.\n"
          ],
          "name": "stdout"
        }
      ]
    },
    {
      "cell_type": "markdown",
      "metadata": {
        "id": "egGnS3bERCkW"
      },
      "source": [
        "For the inception_v3 model"
      ]
    },
    {
      "cell_type": "code",
      "metadata": {
        "colab": {
          "base_uri": "https://localhost:8080/"
        },
        "id": "nJIcBRAkQMLM",
        "outputId": "f304cab5-e28e-4c65-af64-ffba6ce086ff"
      },
      "source": [
        "train_batches_inception_v3 = ImageDataGenerator(preprocessing_function=tf.keras.applications.inception_v3.preprocess_input,\r\n",
        "                                                vertical_flip=True,\r\n",
        "                                                horizontal_flip=True,\r\n",
        "                                                validation_split=split_validation) \\\r\n",
        "                .flow_from_dataframe(dataframe=df,\r\n",
        "                      directory=g_Folder_Trimed,\r\n",
        "                      color_mode='rgb',#'grayscale', \r\n",
        "                      x_col=\"image\",\r\n",
        "                      y_col=columns,\r\n",
        "                      batch_size=g_batch_size,\r\n",
        "                      seed=42,\r\n",
        "                      shuffle=False,  # to compare the preprocessing function & Validation or Test data shoundn't be shuffled\r\n",
        "                      class_mode=\"raw\",\r\n",
        "                      subset='training',\r\n",
        "                      target_size=g_Image_Shape_InceptionV3[:2]\r\n",
        "                      )   "
      ],
      "execution_count": 71,
      "outputs": [
        {
          "output_type": "stream",
          "text": [
            "Found 336 validated image filenames.\n"
          ],
          "name": "stdout"
        }
      ]
    },
    {
      "cell_type": "code",
      "metadata": {
        "colab": {
          "base_uri": "https://localhost:8080/"
        },
        "id": "p5gLKaSyQv9k",
        "outputId": "8f6772c7-b62f-4403-b12c-48ad963f6ee7"
      },
      "source": [
        "valid_batches_inception_v3 = ImageDataGenerator(preprocessing_function=tf.keras.applications.inception_v3.preprocess_input,                                               \r\n",
        "                                                validation_split=split_validation) \\\r\n",
        "                .flow_from_dataframe(dataframe=df,\r\n",
        "                      directory=g_Folder_Trimed,\r\n",
        "                      color_mode='rgb',#'grayscale', \r\n",
        "                      x_col=\"image\",\r\n",
        "                      y_col=columns,\r\n",
        "                      batch_size=g_batch_size,\r\n",
        "                      seed=42,\r\n",
        "                      shuffle=False, # to compare the preprocessing function & Validation or Test data shoundn't be shuffled\r\n",
        "                      class_mode=\"raw\",\r\n",
        "                      subset='validation',\r\n",
        "                      target_size=g_Image_Shape_InceptionV3[:2]\r\n",
        "                      )   "
      ],
      "execution_count": 72,
      "outputs": [
        {
          "output_type": "stream",
          "text": [
            "Found 84 validated image filenames.\n"
          ],
          "name": "stdout"
        }
      ]
    },
    {
      "cell_type": "code",
      "metadata": {
        "colab": {
          "base_uri": "https://localhost:8080/"
        },
        "id": "Xct7XYaUVwIy",
        "outputId": "62a84539-8960-4b60-ca93-062d2eeb59a5"
      },
      "source": [
        "step_size_train=train_generator.n//train_generator.batch_size\r\n",
        "step_size_train"
      ],
      "execution_count": 73,
      "outputs": [
        {
          "output_type": "execute_result",
          "data": {
            "text/plain": [
              "336"
            ]
          },
          "metadata": {
            "tags": []
          },
          "execution_count": 73
        }
      ]
    },
    {
      "cell_type": "markdown",
      "metadata": {
        "id": "_fXX0UB1VrHf"
      },
      "source": [
        "### Show the difference"
      ]
    },
    {
      "cell_type": "code",
      "metadata": {
        "id": "Lc34IZ_sIDET"
      },
      "source": [
        "imgs, labels = next(train_generator)\r\n",
        "imgs_resnet_v2, labels_resnet_v2 = next(train_batches_resnet_v2)\r\n",
        "imgs_inception_v3, labels_inception_v3 = next(train_batches_inception_v3)"
      ],
      "execution_count": 75,
      "outputs": []
    },
    {
      "cell_type": "code",
      "metadata": {
        "colab": {
          "base_uri": "https://localhost:8080/"
        },
        "id": "WZGFKagw9yFo",
        "outputId": "32126ea8-bd6d-47a9-98a4-8a1eb77a6488"
      },
      "source": [
        "imgs[0][0][0][0]\r\n",
        "imgs[0][0][0].shape"
      ],
      "execution_count": 76,
      "outputs": [
        {
          "output_type": "execute_result",
          "data": {
            "text/plain": [
              "(3,)"
            ]
          },
          "metadata": {
            "tags": []
          },
          "execution_count": 76
        }
      ]
    },
    {
      "cell_type": "code",
      "metadata": {
        "colab": {
          "base_uri": "https://localhost:8080/",
          "height": 177
        },
        "id": "AJ6QsrlZcux8",
        "outputId": "71e83e11-986d-4d77-aaea-97b2958aed3f"
      },
      "source": [
        "imgsApp[0][0][0]\r\n",
        "labelsApp"
      ],
      "execution_count": 77,
      "outputs": [
        {
          "output_type": "error",
          "ename": "NameError",
          "evalue": "ignored",
          "traceback": [
            "\u001b[0;31m---------------------------------------------------------------------------\u001b[0m",
            "\u001b[0;31mNameError\u001b[0m                                 Traceback (most recent call last)",
            "\u001b[0;32m<ipython-input-77-d7ea3866e9bc>\u001b[0m in \u001b[0;36m<module>\u001b[0;34m()\u001b[0m\n\u001b[0;32m----> 1\u001b[0;31m \u001b[0mimgsApp\u001b[0m\u001b[0;34m[\u001b[0m\u001b[0;36m0\u001b[0m\u001b[0;34m]\u001b[0m\u001b[0;34m[\u001b[0m\u001b[0;36m0\u001b[0m\u001b[0;34m]\u001b[0m\u001b[0;34m[\u001b[0m\u001b[0;36m0\u001b[0m\u001b[0;34m]\u001b[0m\u001b[0;34m\u001b[0m\u001b[0;34m\u001b[0m\u001b[0m\n\u001b[0m\u001b[1;32m      2\u001b[0m \u001b[0mlabelsApp\u001b[0m\u001b[0;34m\u001b[0m\u001b[0;34m\u001b[0m\u001b[0m\n",
            "\u001b[0;31mNameError\u001b[0m: name 'imgsApp' is not defined"
          ]
        }
      ]
    },
    {
      "cell_type": "code",
      "metadata": {
        "id": "Z7epZyrmfy-l"
      },
      "source": [
        "displayImage(imgs_resnet_v2)"
      ],
      "execution_count": null,
      "outputs": []
    },
    {
      "cell_type": "code",
      "metadata": {
        "id": "PLuLZTK7RW2o"
      },
      "source": [
        "displayImage(imgs_inception_v3)"
      ],
      "execution_count": null,
      "outputs": []
    },
    {
      "cell_type": "code",
      "metadata": {
        "id": "K5BvtOBgH0ji"
      },
      "source": [
        "displayImage(imgs)"
      ],
      "execution_count": null,
      "outputs": []
    },
    {
      "cell_type": "markdown",
      "metadata": {
        "id": "qCEFLxqjYF5g"
      },
      "source": [
        "## Monitoring"
      ]
    },
    {
      "cell_type": "markdown",
      "metadata": {
        "id": "ce3xSxowVy69"
      },
      "source": [
        "### Load Tensorboard"
      ]
    },
    {
      "cell_type": "code",
      "metadata": {
        "id": "KKSTTWf4dIiO"
      },
      "source": [
        "timestamp = datetime.now().strftime(\"%Y-%m-%d--%H%M\")\r\n",
        "if 'google.colab' in str(get_ipython()):\r\n",
        "  print('Running on CoLab')\r\n",
        "  notebook.list() # View open TensorBoard instances\r\n",
        "  \r\n",
        "  # Control TensorBoard display. If no port is provided, \r\n",
        "  # the most recently launched TensorBoard is used\r\n",
        "  notebook.display(port=6006, height=1000)  \r\n",
        "  # Load the TensorBoard notebook extension\r\n",
        "  #%load_ext tensorboard\r\n",
        "\r\n",
        "  %reload_ext tensorboard \r\n",
        "  %tensorboard --logdir logs\r\n",
        "\r\n",
        "  log_directory = os.path.join(\"logs\", timestamp)\r\n",
        "else:\r\n",
        "  print('Not running on CoLab')\r\n",
        "  if platform.system() == 'Darwin' or platform.system() == 'Linux':\r\n",
        "    # MACOS/LINUX: Use \"logs\\fit\"\r\n",
        "    log_directory = 'logs\\fit'\r\n",
        "  elif platform.system() == 'Windows':\r\n",
        "    # WINDOWS: Use \"logs\\\\fit\"\r\n",
        "    log_directory = 'logs\\\\fit'\r\n",
        "\r\n",
        "  log_directory = log_directory + '\\\\' + timestamp\r\n",
        "\r\n",
        "\r\n",
        "board = TensorBoard(log_dir=log_directory,\r\n",
        "                    histogram_freq=1,\r\n",
        "                    write_graph=True,\r\n",
        "                    write_images=True,\r\n",
        "                    update_freq='epoch',\r\n",
        "                    profile_batch=1,\r\n",
        "                    embeddings_freq=1)\r\n",
        "  \r\n",
        " "
      ],
      "execution_count": null,
      "outputs": []
    },
    {
      "cell_type": "markdown",
      "metadata": {
        "id": "h7xAnTjCWlHx"
      },
      "source": [
        "## Create the models"
      ]
    },
    {
      "cell_type": "markdown",
      "metadata": {
        "id": "EH55p1s6DCBI"
      },
      "source": [
        "### Class Models"
      ]
    },
    {
      "cell_type": "code",
      "metadata": {
        "id": "iRzVxmZpdIiP"
      },
      "source": [
        "class Models:\n",
        "  def ResNet50V2_model(self,trainable,pretrained):\n",
        "    print(\"def is \" + inspect.stack()[0][3])\n",
        "    \n",
        "    if pretrained == False:\n",
        "      #########################################\n",
        "      #\n",
        "      #\n",
        "      #########################################\n",
        "      model = tf.keras.applications.ResNet50V2(\n",
        "                                      include_top=True, # the last layer is defined by classes and classifier_activation\n",
        "                                      weights=None, \n",
        "                                      input_tensor=None,\n",
        "                                      #input_shape=g_Image_Shape_ResNet, # only to be specified if include_top is False (otherwise the input shape has to be (224, 224, 3) # NOT RELEVANT\n",
        "                                      pooling=None, \n",
        "                                      classes=lastLayer, #...only to be specified if include_top is True, and if no weights argument is specified. # WORKING\n",
        "                                      classifier_activation='sigmoid' #The activation function to use on the \"top\" layer. Ignored unless include_top=True. Set classifier_activation=None to return the logits of the \"top\" layer. # WORKING\n",
        "                                  )\n",
        "\n",
        "    elif pretrained == True:\n",
        "      #########################################\n",
        "      #\n",
        "      #\n",
        "      #########################################\n",
        "      model = tf.keras.applications.ResNet50V2(\n",
        "                                                  include_top=True, # the last layer will be defined in this if statment\n",
        "                                                  weights='imagenet',\n",
        "                                                  # input_tensor=None,                                               \n",
        "                                                  input_shape=g_Image_Shape_ResNet,\n",
        "                                                  pooling=None,\n",
        "                                                  #classes=lastLayer, #...only to be specified if include_top is True, and if no weights argument is specified. # ERROR\n",
        "                                                  #classifier_activation='sigmoid' #The activation function to use on the \"top\" layer. Ignored unless include_top=True. Set classifier_activation=None to return the logits of the \"top\" layer.\n",
        "                                                  ) \n",
        "      print(type(model))\n",
        "\n",
        "      for layer in model.layers:\n",
        "        layer.trainable = trainable\n",
        "\n",
        "      avg = GlobalAveragePooling2D()(model.output)\n",
        "      predictions = Dense(lastLayer, activation='sigmoid')(avg)\n",
        "      model = Model(inputs=model.input, outputs=predictions)\n",
        "\n",
        "    opt = Adam(learning_rate = 0.001, beta_1 = 0.9,\n",
        "                beta_2 = 0.999, epsilon = 1e-07,\n",
        "                amsgrad = False, name = 'Adam', clipvalue=1)\n",
        "\n",
        "    # For a multi-label classification problems use binary_crossentropy\n",
        "    model.compile(optimizer=opt,\n",
        "                  loss='binary_crossentropy',\n",
        "                  metrics=['accuracy'])\n",
        "\n",
        "    print(model.summary())\n",
        "    return model\n",
        "\n",
        "#  def myModel():\n",
        "#    model = Sequential()\n",
        "\n",
        "#  return model\n",
        "\n",
        "  def Inception_v3_model(self,trainable,fineTuning):\n",
        "    print(\"def is \" + inspect.stack()[0][3])\n",
        "\n",
        "    if pretrained == False:\n",
        "      #########################################\n",
        "      #\n",
        "      #\n",
        "      #########################################\n",
        "      model = tf.keras.applications.InceptionV3(\n",
        "                                        include_top=True, # the last layer is defined by classes and classifier_activation\n",
        "                                        weights=None, \n",
        "                                        input_tensor=None,\n",
        "                                        input_shape=g_Image_Shape_InceptionV3, \n",
        "                                        pooling=None, \n",
        "                                        classes=lastLayer,\n",
        "                                        classifier_activation='sigmoid'\n",
        "      )\n",
        "\n",
        "\n",
        "    elif pretrained == True:\n",
        "      #########################################\n",
        "      #\n",
        "      #\n",
        "      #########################################\n",
        "      original_model = tf.keras.applications.InceptionV3(\n",
        "                                        # include_top=False, # the last layer is defined by classes and classifier_activation\n",
        "                                        # weights='imagenet', \n",
        "                                        # input_tensor=None,\n",
        "                                        # input_shape=g_Image_Shape_InceptionV3, \n",
        "                                        # pooling=None \n",
        "                                        #classes=lastLayer,\n",
        "                                        #classifier_activation='sigmoid'\n",
        "      )\n",
        "      print(type(original_model))\n",
        "\n",
        "      bottleneck_input  = original_model.get_layer(index=0).input\n",
        "      print(bottleneck_input)\n",
        "      bottleneck_output = original_model.get_layer(index=-2).output\n",
        "      print(bottleneck_output)\n",
        "      bottleneck_model  = Model(inputs=bottleneck_input, outputs=bottleneck_output)\n",
        "\n",
        "      for layer in bottleneck_model.layers:\n",
        "        layer.trainable = trainable\n",
        "\n",
        "      model = Sequential()\n",
        "      model.add(bottleneck_model)\n",
        "      model.add(Dense(lastLayer, activation='sigmoid', input_dim=2048)) \n",
        "      #avg = GlobalAveragePooling2D()(model.output)\n",
        "      #predictions = Dense(lastLayer, activation='sigmoid')(avg)\n",
        "      #model = Model(inputs=model.input, outputs=predictions)\n",
        "\n",
        "    opt = Adam(learning_rate = 0.005, beta_1 = 0.9,\n",
        "                  beta_2 = 0.999, epsilon = 1e-07,\n",
        "                  amsgrad = False, name = 'Adam', clipvalue=1)\n",
        "\n",
        "    # For a multi-label classification problems use binary_crossentropy\n",
        "    model.compile(optimizer=opt,\n",
        "                    loss='binary_crossentropy',\n",
        "                    metrics=['accuracy'])\n",
        "    print(model.summary())\n",
        "\n",
        "    return model"
      ],
      "execution_count": 75,
      "outputs": []
    },
    {
      "cell_type": "markdown",
      "metadata": {
        "id": "3vzRPi5CYqyN"
      },
      "source": [
        "### read the class and create a model object"
      ]
    },
    {
      "cell_type": "code",
      "metadata": {
        "colab": {
          "base_uri": "https://localhost:8080/"
        },
        "id": "AW4m4QsrNqbe",
        "outputId": "b40c52c5-a000-4166-a082-246efdab82d1"
      },
      "source": [
        "#model = Models().chest(g_Image_Shape,lastLayer)\r\n",
        "#model = Models().myfirstModel(g_Image_Shape,lastLayer)\r\n",
        "\r\n",
        "#model = Models().ResNet50V2_model(trainable=False,pretrained=False)\r\n",
        "model = Models().Inception_v3_model(trainable=False,pretrained=True)"
      ],
      "execution_count": 76,
      "outputs": [
        {
          "output_type": "stream",
          "text": [
            "def is Inception_v3_model\n",
            "Downloading data from https://storage.googleapis.com/tensorflow/keras-applications/inception_v3/inception_v3_weights_tf_dim_ordering_tf_kernels.h5\n",
            "96116736/96112376 [==============================] - 0s 0us/step\n",
            "<class 'tensorflow.python.keras.engine.functional.Functional'>\n",
            "KerasTensor(type_spec=TensorSpec(shape=(None, 299, 299, 3), dtype=tf.float32, name='input_10'), name='input_10', description=\"created by layer 'input_10'\")\n",
            "KerasTensor(type_spec=TensorSpec(shape=(None, 2048), dtype=tf.float32, name=None), name='avg_pool/Mean:0', description=\"created by layer 'avg_pool'\")\n",
            "Model: \"sequential_3\"\n",
            "_________________________________________________________________\n",
            "Layer (type)                 Output Shape              Param #   \n",
            "=================================================================\n",
            "model_3 (Functional)         (None, 2048)              21802784  \n",
            "_________________________________________________________________\n",
            "dense_3 (Dense)              (None, 5)                 10245     \n",
            "=================================================================\n",
            "Total params: 21,813,029\n",
            "Trainable params: 10,245\n",
            "Non-trainable params: 21,802,784\n",
            "_________________________________________________________________\n",
            "None\n"
          ],
          "name": "stdout"
        }
      ]
    },
    {
      "cell_type": "code",
      "metadata": {
        "id": "BL2zBzBA-L3o"
      },
      "source": [
        "#plot_model(model, \"my_first_model_with_shape_info.png\", show_shapes=True)"
      ],
      "execution_count": null,
      "outputs": []
    },
    {
      "cell_type": "markdown",
      "metadata": {
        "id": "XnCKVbgjYxge"
      },
      "source": [
        "### Early stop"
      ]
    },
    {
      "cell_type": "code",
      "metadata": {
        "id": "cKudK-ebdIiQ"
      },
      "source": [
        "early_stop = EarlyStopping(monitor='val_loss', mode='auto', verbose=2, patience=3)"
      ],
      "execution_count": null,
      "outputs": []
    },
    {
      "cell_type": "markdown",
      "metadata": {
        "id": "Ot8_exX5XQpj"
      },
      "source": [
        "# **Training**"
      ]
    },
    {
      "cell_type": "markdown",
      "metadata": {
        "id": "T4q42WlNW2MI"
      },
      "source": [
        "### train the model"
      ]
    },
    {
      "cell_type": "code",
      "metadata": {
        "colab": {
          "base_uri": "https://localhost:8080/"
        },
        "id": "lirFWYOXdIiR",
        "outputId": "04cb8ed1-57d4-4d49-a701-9f544fc222e4"
      },
      "source": [
        "results = model.fit(train_batches_inception_v3,\n",
        "                   epochs=20,\n",
        "                   validation_data=valid_batches_inception_v3,\n",
        "                   steps_per_epoch=step_size_train,\n",
        "                   #callbacks=board,\n",
        "                   #callbacks=early_stop,\n",
        "                   #callbacks=[early_stop,board], # non Colab add board for TensorBoard\n",
        "                   verbose=1\n",
        "                   )\n"
      ],
      "execution_count": 77,
      "outputs": [
        {
          "output_type": "stream",
          "text": [
            "Epoch 1/20\n",
            "336/336 [==============================] - 180s 522ms/step - loss: 0.7034 - accuracy: 0.3305 - val_loss: 0.7501 - val_accuracy: 0.5238\n",
            "Epoch 2/20\n",
            "336/336 [==============================] - 142s 423ms/step - loss: 0.3753 - accuracy: 0.2154 - val_loss: 1.2538 - val_accuracy: 0.3333\n",
            "Epoch 3/20\n",
            "336/336 [==============================] - 142s 422ms/step - loss: 0.2262 - accuracy: 0.3024 - val_loss: 0.5413 - val_accuracy: 0.3571\n",
            "Epoch 4/20\n",
            "336/336 [==============================] - 141s 420ms/step - loss: 0.2263 - accuracy: 0.2501 - val_loss: 1.5839 - val_accuracy: 0.4405\n",
            "Epoch 5/20\n",
            "336/336 [==============================] - 142s 422ms/step - loss: 0.3762 - accuracy: 0.2933 - val_loss: 0.5344 - val_accuracy: 0.4762\n",
            "Epoch 6/20\n",
            "336/336 [==============================] - 142s 423ms/step - loss: 0.1769 - accuracy: 0.3412 - val_loss: 0.9656 - val_accuracy: 0.3690\n",
            "Epoch 7/20\n",
            "336/336 [==============================] - 142s 423ms/step - loss: 0.2315 - accuracy: 0.3761 - val_loss: 0.3793 - val_accuracy: 0.7500\n",
            "Epoch 8/20\n",
            "336/336 [==============================] - 141s 421ms/step - loss: 0.3041 - accuracy: 0.3704 - val_loss: 0.4483 - val_accuracy: 0.4286\n",
            "Epoch 9/20\n",
            "336/336 [==============================] - 141s 421ms/step - loss: 0.2255 - accuracy: 0.3284 - val_loss: 0.3277 - val_accuracy: 0.3929\n",
            "Epoch 10/20\n",
            "336/336 [==============================] - 141s 419ms/step - loss: 0.1602 - accuracy: 0.3257 - val_loss: 1.0414 - val_accuracy: 0.2619\n",
            "Epoch 11/20\n",
            "336/336 [==============================] - 141s 420ms/step - loss: 0.1198 - accuracy: 0.3243 - val_loss: 0.2557 - val_accuracy: 0.5238\n",
            "Epoch 12/20\n",
            "336/336 [==============================] - 141s 419ms/step - loss: 0.2117 - accuracy: 0.3428 - val_loss: 0.3511 - val_accuracy: 0.4881\n",
            "Epoch 13/20\n",
            "336/336 [==============================] - 141s 420ms/step - loss: 0.1802 - accuracy: 0.3130 - val_loss: 0.2042 - val_accuracy: 0.6190\n",
            "Epoch 14/20\n",
            "336/336 [==============================] - 142s 422ms/step - loss: 0.1197 - accuracy: 0.4193 - val_loss: 0.1280 - val_accuracy: 0.5952\n",
            "Epoch 15/20\n",
            "336/336 [==============================] - 141s 420ms/step - loss: 0.0844 - accuracy: 0.3887 - val_loss: 0.0860 - val_accuracy: 0.4881\n",
            "Epoch 16/20\n",
            "336/336 [==============================] - 142s 421ms/step - loss: 0.0843 - accuracy: 0.4066 - val_loss: 0.2472 - val_accuracy: 0.6905\n",
            "Epoch 17/20\n",
            "336/336 [==============================] - 141s 420ms/step - loss: 0.1605 - accuracy: 0.4109 - val_loss: 0.0788 - val_accuracy: 0.5833\n",
            "Epoch 18/20\n",
            "336/336 [==============================] - 142s 424ms/step - loss: 0.0769 - accuracy: 0.3310 - val_loss: 0.3064 - val_accuracy: 0.5476\n",
            "Epoch 19/20\n",
            "336/336 [==============================] - 142s 422ms/step - loss: 0.0997 - accuracy: 0.3684 - val_loss: 0.0373 - val_accuracy: 0.7143\n",
            "Epoch 20/20\n",
            "336/336 [==============================] - 141s 421ms/step - loss: 0.0647 - accuracy: 0.4436 - val_loss: 0.2785 - val_accuracy: 0.6786\n"
          ],
          "name": "stdout"
        }
      ]
    },
    {
      "cell_type": "markdown",
      "metadata": {
        "id": "1idGFEgkXe3H"
      },
      "source": [
        "# **Validate the model**"
      ]
    },
    {
      "cell_type": "code",
      "metadata": {
        "colab": {
          "base_uri": "https://localhost:8080/",
          "height": 647
        },
        "id": "6x4A1PESdIiT",
        "outputId": "e74e3c5a-b9a1-4596-9fe9-71369413e406"
      },
      "source": [
        "metrics =  pd.DataFrame(model.history.history)\r\n",
        "metrics"
      ],
      "execution_count": 78,
      "outputs": [
        {
          "output_type": "execute_result",
          "data": {
            "text/html": [
              "<div>\n",
              "<style scoped>\n",
              "    .dataframe tbody tr th:only-of-type {\n",
              "        vertical-align: middle;\n",
              "    }\n",
              "\n",
              "    .dataframe tbody tr th {\n",
              "        vertical-align: top;\n",
              "    }\n",
              "\n",
              "    .dataframe thead th {\n",
              "        text-align: right;\n",
              "    }\n",
              "</style>\n",
              "<table border=\"1\" class=\"dataframe\">\n",
              "  <thead>\n",
              "    <tr style=\"text-align: right;\">\n",
              "      <th></th>\n",
              "      <th>loss</th>\n",
              "      <th>accuracy</th>\n",
              "      <th>val_loss</th>\n",
              "      <th>val_accuracy</th>\n",
              "    </tr>\n",
              "  </thead>\n",
              "  <tbody>\n",
              "    <tr>\n",
              "      <th>0</th>\n",
              "      <td>0.572970</td>\n",
              "      <td>0.315476</td>\n",
              "      <td>0.750131</td>\n",
              "      <td>0.523810</td>\n",
              "    </tr>\n",
              "    <tr>\n",
              "      <th>1</th>\n",
              "      <td>0.409240</td>\n",
              "      <td>0.229167</td>\n",
              "      <td>1.253803</td>\n",
              "      <td>0.333333</td>\n",
              "    </tr>\n",
              "    <tr>\n",
              "      <th>2</th>\n",
              "      <td>0.292714</td>\n",
              "      <td>0.291667</td>\n",
              "      <td>0.541345</td>\n",
              "      <td>0.357143</td>\n",
              "    </tr>\n",
              "    <tr>\n",
              "      <th>3</th>\n",
              "      <td>0.289945</td>\n",
              "      <td>0.285714</td>\n",
              "      <td>1.583869</td>\n",
              "      <td>0.440476</td>\n",
              "    </tr>\n",
              "    <tr>\n",
              "      <th>4</th>\n",
              "      <td>0.342171</td>\n",
              "      <td>0.291667</td>\n",
              "      <td>0.534363</td>\n",
              "      <td>0.476190</td>\n",
              "    </tr>\n",
              "    <tr>\n",
              "      <th>5</th>\n",
              "      <td>0.269656</td>\n",
              "      <td>0.315476</td>\n",
              "      <td>0.965584</td>\n",
              "      <td>0.369048</td>\n",
              "    </tr>\n",
              "    <tr>\n",
              "      <th>6</th>\n",
              "      <td>0.211603</td>\n",
              "      <td>0.318452</td>\n",
              "      <td>0.379311</td>\n",
              "      <td>0.750000</td>\n",
              "    </tr>\n",
              "    <tr>\n",
              "      <th>7</th>\n",
              "      <td>0.279316</td>\n",
              "      <td>0.342262</td>\n",
              "      <td>0.448269</td>\n",
              "      <td>0.428571</td>\n",
              "    </tr>\n",
              "    <tr>\n",
              "      <th>8</th>\n",
              "      <td>0.216788</td>\n",
              "      <td>0.357143</td>\n",
              "      <td>0.327687</td>\n",
              "      <td>0.392857</td>\n",
              "    </tr>\n",
              "    <tr>\n",
              "      <th>9</th>\n",
              "      <td>0.176134</td>\n",
              "      <td>0.369048</td>\n",
              "      <td>1.041434</td>\n",
              "      <td>0.261905</td>\n",
              "    </tr>\n",
              "    <tr>\n",
              "      <th>10</th>\n",
              "      <td>0.141708</td>\n",
              "      <td>0.315476</td>\n",
              "      <td>0.255726</td>\n",
              "      <td>0.523810</td>\n",
              "    </tr>\n",
              "    <tr>\n",
              "      <th>11</th>\n",
              "      <td>0.180559</td>\n",
              "      <td>0.303571</td>\n",
              "      <td>0.351122</td>\n",
              "      <td>0.488095</td>\n",
              "    </tr>\n",
              "    <tr>\n",
              "      <th>12</th>\n",
              "      <td>0.148727</td>\n",
              "      <td>0.348214</td>\n",
              "      <td>0.204201</td>\n",
              "      <td>0.619048</td>\n",
              "    </tr>\n",
              "    <tr>\n",
              "      <th>13</th>\n",
              "      <td>0.117433</td>\n",
              "      <td>0.404762</td>\n",
              "      <td>0.127960</td>\n",
              "      <td>0.595238</td>\n",
              "    </tr>\n",
              "    <tr>\n",
              "      <th>14</th>\n",
              "      <td>0.077372</td>\n",
              "      <td>0.392857</td>\n",
              "      <td>0.085982</td>\n",
              "      <td>0.488095</td>\n",
              "    </tr>\n",
              "    <tr>\n",
              "      <th>15</th>\n",
              "      <td>0.164940</td>\n",
              "      <td>0.449405</td>\n",
              "      <td>0.247160</td>\n",
              "      <td>0.690476</td>\n",
              "    </tr>\n",
              "    <tr>\n",
              "      <th>16</th>\n",
              "      <td>0.112657</td>\n",
              "      <td>0.383929</td>\n",
              "      <td>0.078794</td>\n",
              "      <td>0.583333</td>\n",
              "    </tr>\n",
              "    <tr>\n",
              "      <th>17</th>\n",
              "      <td>0.083705</td>\n",
              "      <td>0.366071</td>\n",
              "      <td>0.306422</td>\n",
              "      <td>0.547619</td>\n",
              "    </tr>\n",
              "    <tr>\n",
              "      <th>18</th>\n",
              "      <td>0.107165</td>\n",
              "      <td>0.413690</td>\n",
              "      <td>0.037336</td>\n",
              "      <td>0.714286</td>\n",
              "    </tr>\n",
              "    <tr>\n",
              "      <th>19</th>\n",
              "      <td>0.094012</td>\n",
              "      <td>0.437500</td>\n",
              "      <td>0.278510</td>\n",
              "      <td>0.678571</td>\n",
              "    </tr>\n",
              "  </tbody>\n",
              "</table>\n",
              "</div>"
            ],
            "text/plain": [
              "        loss  accuracy  val_loss  val_accuracy\n",
              "0   0.572970  0.315476  0.750131      0.523810\n",
              "1   0.409240  0.229167  1.253803      0.333333\n",
              "2   0.292714  0.291667  0.541345      0.357143\n",
              "3   0.289945  0.285714  1.583869      0.440476\n",
              "4   0.342171  0.291667  0.534363      0.476190\n",
              "5   0.269656  0.315476  0.965584      0.369048\n",
              "6   0.211603  0.318452  0.379311      0.750000\n",
              "7   0.279316  0.342262  0.448269      0.428571\n",
              "8   0.216788  0.357143  0.327687      0.392857\n",
              "9   0.176134  0.369048  1.041434      0.261905\n",
              "10  0.141708  0.315476  0.255726      0.523810\n",
              "11  0.180559  0.303571  0.351122      0.488095\n",
              "12  0.148727  0.348214  0.204201      0.619048\n",
              "13  0.117433  0.404762  0.127960      0.595238\n",
              "14  0.077372  0.392857  0.085982      0.488095\n",
              "15  0.164940  0.449405  0.247160      0.690476\n",
              "16  0.112657  0.383929  0.078794      0.583333\n",
              "17  0.083705  0.366071  0.306422      0.547619\n",
              "18  0.107165  0.413690  0.037336      0.714286\n",
              "19  0.094012  0.437500  0.278510      0.678571"
            ]
          },
          "metadata": {
            "tags": []
          },
          "execution_count": 78
        }
      ]
    },
    {
      "cell_type": "code",
      "metadata": {
        "colab": {
          "base_uri": "https://localhost:8080/",
          "height": 647
        },
        "id": "R6zEoWpjdIiU",
        "outputId": "260f4a2d-2600-4714-f339-6251bc90817b"
      },
      "source": [
        "#loss = Verlust in Traindata train_image_gen. Ziel: decrease | Model kennt Ergebnis in Train Data\n",
        "#var_loss = Verlust in Testdata test_image_gen. Ziel: decrease  | Model kennt Ergebnis in Test Data \n",
        "#accuracy = Richtigkeit der Train data (train_image_gen). Ziel: increase\n",
        "#val_accuracy = Richtigkeit der Test data (test_image_gen). Ziel: increase\n",
        "#Overfitting = nicht vorhandene Muster im Datensatz erkennt | training data but does not perform well on the evaluation data | \"loss\" keeps decreasing (abnehmen) while \"val_loss\" is stale, or increases (zunehmen). \n",
        "#Unterfitting = keine relevanten Schlüsse | model is unable to capture the relationship between the input examples & the target values | \"loss\" and \"val_loss\" are to far away from each other\n",
        "metrics"
      ],
      "execution_count": 79,
      "outputs": [
        {
          "output_type": "execute_result",
          "data": {
            "text/html": [
              "<div>\n",
              "<style scoped>\n",
              "    .dataframe tbody tr th:only-of-type {\n",
              "        vertical-align: middle;\n",
              "    }\n",
              "\n",
              "    .dataframe tbody tr th {\n",
              "        vertical-align: top;\n",
              "    }\n",
              "\n",
              "    .dataframe thead th {\n",
              "        text-align: right;\n",
              "    }\n",
              "</style>\n",
              "<table border=\"1\" class=\"dataframe\">\n",
              "  <thead>\n",
              "    <tr style=\"text-align: right;\">\n",
              "      <th></th>\n",
              "      <th>loss</th>\n",
              "      <th>accuracy</th>\n",
              "      <th>val_loss</th>\n",
              "      <th>val_accuracy</th>\n",
              "    </tr>\n",
              "  </thead>\n",
              "  <tbody>\n",
              "    <tr>\n",
              "      <th>0</th>\n",
              "      <td>0.572970</td>\n",
              "      <td>0.315476</td>\n",
              "      <td>0.750131</td>\n",
              "      <td>0.523810</td>\n",
              "    </tr>\n",
              "    <tr>\n",
              "      <th>1</th>\n",
              "      <td>0.409240</td>\n",
              "      <td>0.229167</td>\n",
              "      <td>1.253803</td>\n",
              "      <td>0.333333</td>\n",
              "    </tr>\n",
              "    <tr>\n",
              "      <th>2</th>\n",
              "      <td>0.292714</td>\n",
              "      <td>0.291667</td>\n",
              "      <td>0.541345</td>\n",
              "      <td>0.357143</td>\n",
              "    </tr>\n",
              "    <tr>\n",
              "      <th>3</th>\n",
              "      <td>0.289945</td>\n",
              "      <td>0.285714</td>\n",
              "      <td>1.583869</td>\n",
              "      <td>0.440476</td>\n",
              "    </tr>\n",
              "    <tr>\n",
              "      <th>4</th>\n",
              "      <td>0.342171</td>\n",
              "      <td>0.291667</td>\n",
              "      <td>0.534363</td>\n",
              "      <td>0.476190</td>\n",
              "    </tr>\n",
              "    <tr>\n",
              "      <th>5</th>\n",
              "      <td>0.269656</td>\n",
              "      <td>0.315476</td>\n",
              "      <td>0.965584</td>\n",
              "      <td>0.369048</td>\n",
              "    </tr>\n",
              "    <tr>\n",
              "      <th>6</th>\n",
              "      <td>0.211603</td>\n",
              "      <td>0.318452</td>\n",
              "      <td>0.379311</td>\n",
              "      <td>0.750000</td>\n",
              "    </tr>\n",
              "    <tr>\n",
              "      <th>7</th>\n",
              "      <td>0.279316</td>\n",
              "      <td>0.342262</td>\n",
              "      <td>0.448269</td>\n",
              "      <td>0.428571</td>\n",
              "    </tr>\n",
              "    <tr>\n",
              "      <th>8</th>\n",
              "      <td>0.216788</td>\n",
              "      <td>0.357143</td>\n",
              "      <td>0.327687</td>\n",
              "      <td>0.392857</td>\n",
              "    </tr>\n",
              "    <tr>\n",
              "      <th>9</th>\n",
              "      <td>0.176134</td>\n",
              "      <td>0.369048</td>\n",
              "      <td>1.041434</td>\n",
              "      <td>0.261905</td>\n",
              "    </tr>\n",
              "    <tr>\n",
              "      <th>10</th>\n",
              "      <td>0.141708</td>\n",
              "      <td>0.315476</td>\n",
              "      <td>0.255726</td>\n",
              "      <td>0.523810</td>\n",
              "    </tr>\n",
              "    <tr>\n",
              "      <th>11</th>\n",
              "      <td>0.180559</td>\n",
              "      <td>0.303571</td>\n",
              "      <td>0.351122</td>\n",
              "      <td>0.488095</td>\n",
              "    </tr>\n",
              "    <tr>\n",
              "      <th>12</th>\n",
              "      <td>0.148727</td>\n",
              "      <td>0.348214</td>\n",
              "      <td>0.204201</td>\n",
              "      <td>0.619048</td>\n",
              "    </tr>\n",
              "    <tr>\n",
              "      <th>13</th>\n",
              "      <td>0.117433</td>\n",
              "      <td>0.404762</td>\n",
              "      <td>0.127960</td>\n",
              "      <td>0.595238</td>\n",
              "    </tr>\n",
              "    <tr>\n",
              "      <th>14</th>\n",
              "      <td>0.077372</td>\n",
              "      <td>0.392857</td>\n",
              "      <td>0.085982</td>\n",
              "      <td>0.488095</td>\n",
              "    </tr>\n",
              "    <tr>\n",
              "      <th>15</th>\n",
              "      <td>0.164940</td>\n",
              "      <td>0.449405</td>\n",
              "      <td>0.247160</td>\n",
              "      <td>0.690476</td>\n",
              "    </tr>\n",
              "    <tr>\n",
              "      <th>16</th>\n",
              "      <td>0.112657</td>\n",
              "      <td>0.383929</td>\n",
              "      <td>0.078794</td>\n",
              "      <td>0.583333</td>\n",
              "    </tr>\n",
              "    <tr>\n",
              "      <th>17</th>\n",
              "      <td>0.083705</td>\n",
              "      <td>0.366071</td>\n",
              "      <td>0.306422</td>\n",
              "      <td>0.547619</td>\n",
              "    </tr>\n",
              "    <tr>\n",
              "      <th>18</th>\n",
              "      <td>0.107165</td>\n",
              "      <td>0.413690</td>\n",
              "      <td>0.037336</td>\n",
              "      <td>0.714286</td>\n",
              "    </tr>\n",
              "    <tr>\n",
              "      <th>19</th>\n",
              "      <td>0.094012</td>\n",
              "      <td>0.437500</td>\n",
              "      <td>0.278510</td>\n",
              "      <td>0.678571</td>\n",
              "    </tr>\n",
              "  </tbody>\n",
              "</table>\n",
              "</div>"
            ],
            "text/plain": [
              "        loss  accuracy  val_loss  val_accuracy\n",
              "0   0.572970  0.315476  0.750131      0.523810\n",
              "1   0.409240  0.229167  1.253803      0.333333\n",
              "2   0.292714  0.291667  0.541345      0.357143\n",
              "3   0.289945  0.285714  1.583869      0.440476\n",
              "4   0.342171  0.291667  0.534363      0.476190\n",
              "5   0.269656  0.315476  0.965584      0.369048\n",
              "6   0.211603  0.318452  0.379311      0.750000\n",
              "7   0.279316  0.342262  0.448269      0.428571\n",
              "8   0.216788  0.357143  0.327687      0.392857\n",
              "9   0.176134  0.369048  1.041434      0.261905\n",
              "10  0.141708  0.315476  0.255726      0.523810\n",
              "11  0.180559  0.303571  0.351122      0.488095\n",
              "12  0.148727  0.348214  0.204201      0.619048\n",
              "13  0.117433  0.404762  0.127960      0.595238\n",
              "14  0.077372  0.392857  0.085982      0.488095\n",
              "15  0.164940  0.449405  0.247160      0.690476\n",
              "16  0.112657  0.383929  0.078794      0.583333\n",
              "17  0.083705  0.366071  0.306422      0.547619\n",
              "18  0.107165  0.413690  0.037336      0.714286\n",
              "19  0.094012  0.437500  0.278510      0.678571"
            ]
          },
          "metadata": {
            "tags": []
          },
          "execution_count": 79
        }
      ]
    },
    {
      "cell_type": "code",
      "metadata": {
        "colab": {
          "base_uri": "https://localhost:8080/",
          "height": 294
        },
        "id": "D6sLrogkdIiW",
        "outputId": "fc26b867-886c-4f48-e54d-0f665e1e9628"
      },
      "source": [
        "# plot train and validation loss\n",
        "plt.plot(metrics[['accuracy']])\n",
        "plt.plot(metrics[['val_accuracy']])\n",
        "plt.title('model train validation vs validation accuracy')\n",
        "plt.ylabel('accuracy')\n",
        "plt.xlabel('epoch')\n",
        "plt.legend(['train accuracy', 'validation val_accuracy'], loc='upper right')\n",
        "plt.show()"
      ],
      "execution_count": 80,
      "outputs": [
        {
          "output_type": "display_data",
          "data": {
            "image/png": "[encoded data removed]",
            "text/plain": [
              "<Figure size 432x288 with 1 Axes>"
            ]
          },
          "metadata": {
            "tags": [],
            "needs_background": "light"
          }
        }
      ]
    },
    {
      "cell_type": "code",
      "metadata": {
        "colab": {
          "base_uri": "https://localhost:8080/",
          "height": 294
        },
        "id": "tDw__KW_dIiX",
        "outputId": "2e717fcb-3660-4b80-f8d1-b229420a1a3c"
      },
      "source": [
        "#metrics[['loss', 'val_loss']].plot()\n",
        "\n",
        "# plot train and validation loss\n",
        "plt.plot(metrics[['loss']])\n",
        "plt.plot(metrics[['val_loss']])\n",
        "plt.title('model train loss vs validation loss')\n",
        "plt.ylabel('loss')\n",
        "plt.xlabel('epoch')\n",
        "plt.legend(['train loss', 'validation val_loss'], loc='upper right')\n",
        "plt.show()"
      ],
      "execution_count": 81,
      "outputs": [
        {
          "output_type": "display_data",
          "data": {
            "image/png": "[encoded data removed]",
            "text/plain": [
              "<Figure size 432x288 with 1 Axes>"
            ]
          },
          "metadata": {
            "tags": [],
            "needs_background": "light"
          }
        }
      ]
    },
    {
      "cell_type": "code",
      "metadata": {
        "colab": {
          "base_uri": "https://localhost:8080/"
        },
        "id": "daRikPqqdIiX",
        "outputId": "87c217c5-425d-4b77-d6c7-d5bffb0680c6"
      },
      "source": [
        "#to get the last Epoch\n",
        "model.evaluate(valid_batches_inception_v3)"
      ],
      "execution_count": 87,
      "outputs": [
        {
          "output_type": "stream",
          "text": [
            "84/84 [==============================] - 29s 340ms/step - loss: 0.2785 - accuracy: 0.6786\n"
          ],
          "name": "stdout"
        },
        {
          "output_type": "execute_result",
          "data": {
            "text/plain": [
              "[0.2785104811191559, 0.6785714030265808]"
            ]
          },
          "metadata": {
            "tags": []
          },
          "execution_count": 87
        }
      ]
    },
    {
      "cell_type": "code",
      "metadata": {
        "colab": {
          "base_uri": "https://localhost:8080/",
          "height": 315
        },
        "id": "xsGiN-qt5SQd",
        "outputId": "04ba36d7-92ed-4d48-decd-826f501684de"
      },
      "source": [
        "imgsApp, labelsApp = next(valid_batches_inception_v3)\r\n",
        "displayImage(imgsApp)"
      ],
      "execution_count": 98,
      "outputs": [
        {
          "output_type": "display_data",
          "data": {
            "image/png": "[encoded data removed]",
            "text/plain": [
              "<PIL.Image.Image image mode=RGB size=299x299 at 0x7F1DB6931198>"
            ]
          },
          "metadata": {
            "tags": []
          }
        }
      ]
    },
    {
      "cell_type": "code",
      "metadata": {
        "colab": {
          "base_uri": "https://localhost:8080/",
          "height": 94
        },
        "id": "Z6Y3U-_i74v6",
        "outputId": "25e5dd51-493f-4904-b613-af716f6e4c3a"
      },
      "source": [
        "pred = model.predict(imgsApp,verbose=1)\r\n",
        "pred_bool = (pred > 0.5)\r\n",
        "results=pd.DataFrame(pred_bool.astype(int), columns=columns)\r\n",
        "results"
      ],
      "execution_count": 99,
      "outputs": [
        {
          "output_type": "stream",
          "text": [
            "1/1 [==============================] - 0s 223ms/step\n"
          ],
          "name": "stdout"
        },
        {
          "output_type": "execute_result",
          "data": {
            "text/html": [
              "<div>\n",
              "<style scoped>\n",
              "    .dataframe tbody tr th:only-of-type {\n",
              "        vertical-align: middle;\n",
              "    }\n",
              "\n",
              "    .dataframe tbody tr th {\n",
              "        vertical-align: top;\n",
              "    }\n",
              "\n",
              "    .dataframe thead th {\n",
              "        text-align: right;\n",
              "    }\n",
              "</style>\n",
              "<table border=\"1\" class=\"dataframe\">\n",
              "  <thead>\n",
              "    <tr style=\"text-align: right;\">\n",
              "      <th></th>\n",
              "      <th>man</th>\n",
              "      <th>women</th>\n",
              "      <th>front</th>\n",
              "      <th>left</th>\n",
              "      <th>right</th>\n",
              "    </tr>\n",
              "  </thead>\n",
              "  <tbody>\n",
              "    <tr>\n",
              "      <th>0</th>\n",
              "      <td>0</td>\n",
              "      <td>1</td>\n",
              "      <td>0</td>\n",
              "      <td>0</td>\n",
              "      <td>0</td>\n",
              "    </tr>\n",
              "  </tbody>\n",
              "</table>\n",
              "</div>"
            ],
            "text/plain": [
              "   man  women  front  left  right\n",
              "0    0      1      0     0      0"
            ]
          },
          "metadata": {
            "tags": []
          },
          "execution_count": 99
        }
      ]
    },
    {
      "cell_type": "code",
      "metadata": {
        "colab": {
          "base_uri": "https://localhost:8080/"
        },
        "id": "sOnGCQIgdIiY",
        "outputId": "65bf09c4-10be-4d65-a915-7a7da34f5492"
      },
      "source": [
        "pred_probabilities=model.predict(valid_batches_inception_v3,verbose=1)\n",
        "# https://datascience.stackexchange.com/questions/13894/how-to-get-predictions-with-predict-generator-on-streaming-test-data-in-keras"
      ],
      "execution_count": 102,
      "outputs": [
        {
          "output_type": "stream",
          "text": [
            "84/84 [==============================] - 29s 337ms/step\n"
          ],
          "name": "stdout"
        }
      ]
    },
    {
      "cell_type": "code",
      "metadata": {
        "id": "lpCUygZRdIiZ"
      },
      "source": [
        "#pred_probabilities"
      ],
      "execution_count": 103,
      "outputs": []
    },
    {
      "cell_type": "code",
      "metadata": {
        "id": "p1D0ax3LdIiZ"
      },
      "source": [
        "pred_bool = (pred_probabilities > 0.5)"
      ],
      "execution_count": 104,
      "outputs": []
    },
    {
      "cell_type": "code",
      "metadata": {
        "id": "8Ub1OovUdIiZ"
      },
      "source": [
        "predictions = pred_bool.astype(int)"
      ],
      "execution_count": 105,
      "outputs": []
    },
    {
      "cell_type": "code",
      "metadata": {
        "id": "f0uyVMzVdIia"
      },
      "source": [
        "results=pd.DataFrame(predictions, columns=columns)"
      ],
      "execution_count": 106,
      "outputs": []
    },
    {
      "cell_type": "code",
      "metadata": {
        "colab": {
          "base_uri": "https://localhost:8080/",
          "height": 406
        },
        "id": "pFZnHdCkPreI",
        "outputId": "686e11c1-2fff-4297-bbef-7977bb50523e"
      },
      "source": [
        "results"
      ],
      "execution_count": 107,
      "outputs": [
        {
          "output_type": "execute_result",
          "data": {
            "text/html": [
              "<div>\n",
              "<style scoped>\n",
              "    .dataframe tbody tr th:only-of-type {\n",
              "        vertical-align: middle;\n",
              "    }\n",
              "\n",
              "    .dataframe tbody tr th {\n",
              "        vertical-align: top;\n",
              "    }\n",
              "\n",
              "    .dataframe thead th {\n",
              "        text-align: right;\n",
              "    }\n",
              "</style>\n",
              "<table border=\"1\" class=\"dataframe\">\n",
              "  <thead>\n",
              "    <tr style=\"text-align: right;\">\n",
              "      <th></th>\n",
              "      <th>man</th>\n",
              "      <th>women</th>\n",
              "      <th>front</th>\n",
              "      <th>left</th>\n",
              "      <th>right</th>\n",
              "    </tr>\n",
              "  </thead>\n",
              "  <tbody>\n",
              "    <tr>\n",
              "      <th>0</th>\n",
              "      <td>1</td>\n",
              "      <td>1</td>\n",
              "      <td>1</td>\n",
              "      <td>0</td>\n",
              "      <td>0</td>\n",
              "    </tr>\n",
              "    <tr>\n",
              "      <th>1</th>\n",
              "      <td>1</td>\n",
              "      <td>0</td>\n",
              "      <td>1</td>\n",
              "      <td>0</td>\n",
              "      <td>0</td>\n",
              "    </tr>\n",
              "    <tr>\n",
              "      <th>2</th>\n",
              "      <td>1</td>\n",
              "      <td>0</td>\n",
              "      <td>0</td>\n",
              "      <td>1</td>\n",
              "      <td>0</td>\n",
              "    </tr>\n",
              "    <tr>\n",
              "      <th>3</th>\n",
              "      <td>1</td>\n",
              "      <td>0</td>\n",
              "      <td>1</td>\n",
              "      <td>0</td>\n",
              "      <td>0</td>\n",
              "    </tr>\n",
              "    <tr>\n",
              "      <th>4</th>\n",
              "      <td>1</td>\n",
              "      <td>0</td>\n",
              "      <td>0</td>\n",
              "      <td>1</td>\n",
              "      <td>0</td>\n",
              "    </tr>\n",
              "    <tr>\n",
              "      <th>...</th>\n",
              "      <td>...</td>\n",
              "      <td>...</td>\n",
              "      <td>...</td>\n",
              "      <td>...</td>\n",
              "      <td>...</td>\n",
              "    </tr>\n",
              "    <tr>\n",
              "      <th>79</th>\n",
              "      <td>1</td>\n",
              "      <td>0</td>\n",
              "      <td>1</td>\n",
              "      <td>0</td>\n",
              "      <td>0</td>\n",
              "    </tr>\n",
              "    <tr>\n",
              "      <th>80</th>\n",
              "      <td>1</td>\n",
              "      <td>0</td>\n",
              "      <td>0</td>\n",
              "      <td>1</td>\n",
              "      <td>0</td>\n",
              "    </tr>\n",
              "    <tr>\n",
              "      <th>81</th>\n",
              "      <td>0</td>\n",
              "      <td>1</td>\n",
              "      <td>1</td>\n",
              "      <td>0</td>\n",
              "      <td>0</td>\n",
              "    </tr>\n",
              "    <tr>\n",
              "      <th>82</th>\n",
              "      <td>1</td>\n",
              "      <td>0</td>\n",
              "      <td>1</td>\n",
              "      <td>0</td>\n",
              "      <td>0</td>\n",
              "    </tr>\n",
              "    <tr>\n",
              "      <th>83</th>\n",
              "      <td>1</td>\n",
              "      <td>0</td>\n",
              "      <td>0</td>\n",
              "      <td>1</td>\n",
              "      <td>0</td>\n",
              "    </tr>\n",
              "  </tbody>\n",
              "</table>\n",
              "<p>84 rows × 5 columns</p>\n",
              "</div>"
            ],
            "text/plain": [
              "    man  women  front  left  right\n",
              "0     1      1      1     0      0\n",
              "1     1      0      1     0      0\n",
              "2     1      0      0     1      0\n",
              "3     1      0      1     0      0\n",
              "4     1      0      0     1      0\n",
              "..  ...    ...    ...   ...    ...\n",
              "79    1      0      1     0      0\n",
              "80    1      0      0     1      0\n",
              "81    0      1      1     0      0\n",
              "82    1      0      1     0      0\n",
              "83    1      0      0     1      0\n",
              "\n",
              "[84 rows x 5 columns]"
            ]
          },
          "metadata": {
            "tags": []
          },
          "execution_count": 107
        }
      ]
    },
    {
      "cell_type": "code",
      "metadata": {
        "id": "kuTxzES2dIih"
      },
      "source": [
        "#for _ in range(5):\r\n",
        "#  img, label = next(valid_batches)\r\n",
        "#  displayImage(img)"
      ],
      "execution_count": null,
      "outputs": []
    },
    {
      "cell_type": "code",
      "metadata": {
        "id": "E4K4-CU_l7av"
      },
      "source": [
        "img_iter_val_0, img_iter_val_1 = itertools.tee(valid_batches, 2)"
      ],
      "execution_count": null,
      "outputs": []
    },
    {
      "cell_type": "code",
      "metadata": {
        "colab": {
          "base_uri": "https://localhost:8080/"
        },
        "id": "y5GADF76ohBu",
        "outputId": "9bfaa629-61ed-469e-a9d3-353498125af1"
      },
      "source": [
        "type(img_iter_val_0)"
      ],
      "execution_count": null,
      "outputs": [
        {
          "output_type": "execute_result",
          "data": {
            "text/plain": [
              "itertools._tee"
            ]
          },
          "metadata": {
            "tags": []
          },
          "execution_count": 68
        }
      ]
    },
    {
      "cell_type": "code",
      "metadata": {
        "colab": {
          "base_uri": "https://localhost:8080/"
        },
        "id": "jlhPvLHJojk3",
        "outputId": "40e43410-572a-4983-ad8d-73eb4d9264ab"
      },
      "source": [
        "img_iter_val_1"
      ],
      "execution_count": null,
      "outputs": [
        {
          "output_type": "execute_result",
          "data": {
            "text/plain": [
              "<itertools._tee at 0x7fa18bf732c8>"
            ]
          },
          "metadata": {
            "tags": []
          },
          "execution_count": 69
        }
      ]
    },
    {
      "cell_type": "code",
      "metadata": {
        "colab": {
          "base_uri": "https://localhost:8080/"
        },
        "id": "ndGJ3Zx9oq7Q",
        "outputId": "ef52945a-f218-4a5d-ff84-71ae1597eb96"
      },
      "source": [
        "y_true = np.vstack(next(valid_batches_inception_v3)[1] for _ in range(41)).astype('int')"
      ],
      "execution_count": 100,
      "outputs": [
        {
          "output_type": "stream",
          "text": [
            "/usr/local/lib/python3.6/dist-packages/ipykernel_launcher.py:1: FutureWarning: arrays to stack must be passed as a \"sequence\" type such as list or tuple. Support for non-sequence iterables such as generators is deprecated as of NumPy 1.16 and will raise an error in the future.\n",
            "  \"\"\"Entry point for launching an IPython kernel.\n"
          ],
          "name": "stderr"
        }
      ]
    },
    {
      "cell_type": "code",
      "metadata": {
        "id": "jM3rzwheRtQR"
      },
      "source": [
        "mcm = multilabel_confusion_matrix(y_true=y_true, y_pred=predictions[:41])"
      ],
      "execution_count": 108,
      "outputs": []
    },
    {
      "cell_type": "code",
      "metadata": {
        "colab": {
          "base_uri": "https://localhost:8080/",
          "height": 1000
        },
        "id": "j0SyI0RDiQvA",
        "outputId": "8bda9c2c-e857-4dae-8f32-008a42f83968"
      },
      "source": [
        "plot_multiclass_confusion_matrix(y_true, y_pred=predictions[:41], label_to_class=columns, save_plot=False)"
      ],
      "execution_count": 111,
      "outputs": [
        {
          "output_type": "display_data",
          "data": {
            "image/png": "[encoded data removed]",
            "text/plain": [
              "<Figure size 360x1080 with 6 Axes>"
            ]
          },
          "metadata": {
            "tags": [],
            "needs_background": "light"
          }
        }
      ]
    },
    {
      "cell_type": "code",
      "metadata": {
        "colab": {
          "base_uri": "https://localhost:8080/"
        },
        "id": "reEhX802ylWD",
        "outputId": "3b4d676c-e306-4c5b-bc25-01a08a71de89"
      },
      "source": [
        "mcm"
      ],
      "execution_count": null,
      "outputs": [
        {
          "output_type": "execute_result",
          "data": {
            "text/plain": [
              "array([[[ 6, 13],\n",
              "        [ 9, 13]],\n",
              "\n",
              "       [[13,  9],\n",
              "        [13,  6]],\n",
              "\n",
              "       [[13,  7],\n",
              "        [17,  4]],\n",
              "\n",
              "       [[ 4, 17],\n",
              "        [ 6, 14]],\n",
              "\n",
              "       [[39,  2],\n",
              "        [ 0,  0]]])"
            ]
          },
          "metadata": {
            "tags": []
          },
          "execution_count": 93
        }
      ]
    },
    {
      "cell_type": "code",
      "metadata": {
        "id": "bwEekW8lg-9w"
      },
      "source": [
        ""
      ],
      "execution_count": null,
      "outputs": []
    }
  ]
}